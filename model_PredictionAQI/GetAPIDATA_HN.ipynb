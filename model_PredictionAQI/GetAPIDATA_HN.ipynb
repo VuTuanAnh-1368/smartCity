{
  "nbformat": 4,
  "nbformat_minor": 0,
  "metadata": {
    "colab": {
      "provenance": []
    },
    "kernelspec": {
      "name": "python3",
      "display_name": "Python 3"
    },
    "language_info": {
      "name": "python"
    }
  },
  "cells": [
    {
      "cell_type": "code",
      "execution_count": null,
      "metadata": {
        "id": "v7R4-aJqsOLb"
      },
      "outputs": [],
      "source": [
        "import requests\n",
        "import json\n",
        "import pandas as pd\n",
        "import numpy as np\n",
        "import matplotlib.pyplot as plt\n",
        "import datetime\n",
        "import seaborn as sns\n",
        "import plotly.express as px"
      ]
    },
    {
      "cell_type": "code",
      "source": [
        "url0 = \"https://api.weatherbit.io/v2.0/history/airquality?city=Hanoi&start_date=2024-03-08&end_date=2024-04-08&tz=local&key=087c3daf40324ad791add91a2cfd35af\"\n",
        "url = \"https://api.weatherbit.io/v2.0/history/airquality?city=Hanoi&start_date=2024-02-08&end_date=2024-03-08&tz=local&key=087c3daf40324ad791add91a2cfd35af\"\n",
        "url2 = \"https://api.weatherbit.io/v2.0/history/airquality?city=Hanoi&start_date=2024-01-08&end_date=2024-02-08&tz=local&key=087c3daf40324ad791add91a2cfd35af\"\n",
        "url3 = \"https://api.weatherbit.io/v2.0/history/airquality?city=Hanoi&start_date=2023-12-08&end_date=2024-01-08&tz=local&key=087c3daf40324ad791add91a2cfd35af\"\n",
        "url4 = \"https://api.weatherbit.io/v2.0/history/airquality?city=Hanoi&start_date=2023-11-08&end_date=2023-12-08&tz=local&key=087c3daf40324ad791add91a2cfd35af\"\n",
        "url5 = \"https://api.weatherbit.io/v2.0/history/airquality?city=Hanoi&start_date=2023-10-08&end_date=2023-11-08&tz=local&key=087c3daf40324ad791add91a2cfd35af\"\n",
        "url6 = \"https://api.weatherbit.io/v2.0/history/airquality?city=Hanoi&start_date=2023-09-08&end_date=2023-10-08&tz=local&key=087c3daf40324ad791add91a2cfd35af\"\n",
        "url7 = \"https://api.weatherbit.io/v2.0/history/airquality?city=Hanoi&start_date=2023-08-08&end_date=2023-09-08&tz=local&key=087c3daf40324ad791add91a2cfd35af\"\n",
        "url8 = \"https://api.weatherbit.io/v2.0/history/airquality?city=Hanoi&start_date=2023-07-08&end_date=2023-08-08&tz=local&key=087c3daf40324ad791add91a2cfd35af\"\n",
        "url9 = \"https://api.weatherbit.io/v2.0/history/airquality?city=Hanoi&start_date=2023-06-08&end_date=2023-07-08&tz=local&key=087c3daf40324ad791add91a2cfd35af\"\n",
        "url10 = \"https://api.weatherbit.io/v2.0/history/airquality?city=Hanoi&start_date=2023-05-08&end_date=2023-06-08&tz=local&key=087c3daf40324ad791add91a2cfd35af\"\n",
        "url11 = \"https://api.weatherbit.io/v2.0/history/airquality?city=Hanoi&start_date=2023-04-08&end_date=2023-05-08&tz=local&key=087c3daf40324ad791add91a2cfd35af\"\n",
        "url12 = \"https://api.weatherbit.io/v2.0/history/airquality?city=Hanoi&start_date=2023-03-08&end_date=2023-04-08&tz=local&key=087c3daf40324ad791add91a2cfd35af\""
      ],
      "metadata": {
        "id": "Kjj7XcfFsZiY"
      },
      "execution_count": null,
      "outputs": []
    },
    {
      "cell_type": "code",
      "source": [
        "#Parse JSON data from 08/03/2024 to 08/04/2024\n",
        "data0 = requests.get(url0)\n",
        "results0 = json.loads(data0.text)\n",
        "#Parse JSON data from 08/02/2024 to 08/03/2024\n",
        "data = requests.get(url)\n",
        "results = json.loads(data.text)\n",
        "#Parse JSON data from 08/01/2024 to 08/02/2024\n",
        "data2 = requests.get(url2)\n",
        "results2 = json.loads(data2.text)\n",
        "#Parse JSON data from 08/12/2023 to 08/01/2024\n",
        "data3 = requests.get(url3)\n",
        "results3 = json.loads(data3.text)\n",
        "#Parse JSON data from 08/11/2023 to 08/12/2023\n",
        "data4 = requests.get(url4)\n",
        "results4 = json.loads(data4.text)\n",
        "#Parse JSON data from 08/10/2023 to 08/11/2023\n",
        "data5 = requests.get(url5)\n",
        "results5 = json.loads(data5.text)\n",
        "#Parse JSON data from 08/09/2023 to 08/10/2023\n",
        "data6 = requests.get(url6)\n",
        "results6 = json.loads(data6.text)\n",
        "#Parse JSON data from 08/08/2023 to 08/09/2023\n",
        "data7 = requests.get(url7)\n",
        "results7 = json.loads(data7.text)\n",
        "#Parse JSON data from 08/07/2023 to 08/08/2023\n",
        "data8 = requests.get(url8)\n",
        "results8 = json.loads(data8.text)\n",
        "#Parse JSON data from 08/06/2023 to 08/07/2023\n",
        "data9 = requests.get(url9)\n",
        "results9 = json.loads(data9.text)\n",
        "#Parse JSON data from 08/05/2023 to 08/06/2023\n",
        "data10 = requests.get(url10)\n",
        "results10 = json.loads(data10.text)\n",
        "#Parse JSON data from 08/04/2023 to 08/05/2023\n",
        "data11 = requests.get(url11)\n",
        "results11 = json.loads(data11.text)\n",
        "#Parse JSON data from 08/03/2023 to 08/04/2023\n",
        "data12 = requests.get(url12)\n",
        "results12 = json.loads(data12.text)"
      ],
      "metadata": {
        "id": "V-fEyViNvSCi"
      },
      "execution_count": null,
      "outputs": []
    },
    {
      "cell_type": "code",
      "source": [
        "results['city_name']"
      ],
      "metadata": {
        "colab": {
          "base_uri": "https://localhost:8080/",
          "height": 35
        },
        "id": "07nQ--JcvIEx",
        "outputId": "872ef8fc-3df3-4426-b85d-a238b0e5cfc9"
      },
      "execution_count": null,
      "outputs": [
        {
          "output_type": "execute_result",
          "data": {
            "text/plain": [
              "'Hanoi'"
            ],
            "application/vnd.google.colaboratory.intrinsic+json": {
              "type": "string"
            }
          },
          "metadata": {},
          "execution_count": 4
        }
      ]
    },
    {
      "cell_type": "code",
      "source": [
        "results['country_code']"
      ],
      "metadata": {
        "colab": {
          "base_uri": "https://localhost:8080/",
          "height": 35
        },
        "id": "U0wGIfxTvinS",
        "outputId": "35aae97b-248d-4a42-c339-bd35aebcfe09"
      },
      "execution_count": null,
      "outputs": [
        {
          "output_type": "execute_result",
          "data": {
            "text/plain": [
              "'VN'"
            ],
            "application/vnd.google.colaboratory.intrinsic+json": {
              "type": "string"
            }
          },
          "metadata": {},
          "execution_count": 5
        }
      ]
    },
    {
      "cell_type": "code",
      "source": [
        "#First element in \"data\" key\n",
        "results['data'][0]"
      ],
      "metadata": {
        "colab": {
          "base_uri": "https://localhost:8080/"
        },
        "id": "U4KRpCLGvmGL",
        "outputId": "26f5b91f-4db1-446d-fb3b-0b4a3947e1d2"
      },
      "execution_count": null,
      "outputs": [
        {
          "output_type": "execute_result",
          "data": {
            "text/plain": [
              "{'aqi': 159,\n",
              " 'co': 4760.2,\n",
              " 'datetime': '2024-03-07:17',\n",
              " 'no2': 37.8,\n",
              " 'o3': 20.4,\n",
              " 'pm10': 116.2,\n",
              " 'pm25': 62,\n",
              " 'so2': 12,\n",
              " 'timestamp_local': '2024-03-08T00:00:00',\n",
              " 'timestamp_utc': '2024-03-07T17:00:00',\n",
              " 'ts': 1709830800}"
            ]
          },
          "metadata": {},
          "execution_count": 6
        }
      ]
    },
    {
      "cell_type": "code",
      "source": [
        "#Last element in \"data\" key\n",
        "results0['data'][-1]"
      ],
      "metadata": {
        "colab": {
          "base_uri": "https://localhost:8080/"
        },
        "id": "ylRDgibuwUgu",
        "outputId": "158fccfa-98db-4238-ffca-bfdd1f80b4b1"
      },
      "execution_count": null,
      "outputs": [
        {
          "output_type": "execute_result",
          "data": {
            "text/plain": [
              "{'aqi': 159,\n",
              " 'co': 4760.2,\n",
              " 'datetime': '2024-03-07:17',\n",
              " 'no2': 37.8,\n",
              " 'o3': 20.4,\n",
              " 'pm10': 116.2,\n",
              " 'pm25': 62,\n",
              " 'so2': 12,\n",
              " 'timestamp_local': '2024-03-08T00:00:00',\n",
              " 'timestamp_utc': '2024-03-07T17:00:00',\n",
              " 'ts': 1709830800}"
            ]
          },
          "metadata": {},
          "execution_count": 8
        }
      ]
    },
    {
      "cell_type": "code",
      "source": [
        "# Joining the 'data' keys from variables\n",
        "joined_data =results0['data'] + results['data'] + results2['data'] + results3['data'] + results4['data'] + results5['data'] + results6['data'] + results7['data'] + results8['data'] + results9['data'] + results10['data'] + results11['data'] + results12['data']\n",
        "# Creating a new dictionary with the joined data\n",
        "joined_results = {\n",
        "    'city_name': results['city_name'],\n",
        "    'country_code': results['country_code'],\n",
        "    'lat': results['lat'],\n",
        "    'lon': results['lon'],\n",
        "    'timezone': results['timezone'],\n",
        "    'data': joined_data\n",
        "}"
      ],
      "metadata": {
        "id": "6l4N1sgaw4QC"
      },
      "execution_count": null,
      "outputs": []
    },
    {
      "cell_type": "code",
      "source": [
        "#First element in \"data\" key\n",
        "joined_results['data'][0]"
      ],
      "metadata": {
        "colab": {
          "base_uri": "https://localhost:8080/"
        },
        "id": "lhgaW1gYxIp6",
        "outputId": "5f8e2088-62f4-4a55-e07b-d8cf18f1dae9"
      },
      "execution_count": null,
      "outputs": [
        {
          "output_type": "execute_result",
          "data": {
            "text/plain": [
              "{'aqi': 82,\n",
              " 'co': 702.6,\n",
              " 'datetime': '2024-04-07:17',\n",
              " 'no2': 47,\n",
              " 'o3': 26.6,\n",
              " 'pm10': 34.7,\n",
              " 'pm25': 27,\n",
              " 'so2': 4,\n",
              " 'timestamp_local': '2024-04-08T00:00:00',\n",
              " 'timestamp_utc': '2024-04-07T17:00:00',\n",
              " 'ts': 1712509200}"
            ]
          },
          "metadata": {},
          "execution_count": 8
        }
      ]
    },
    {
      "cell_type": "code",
      "source": [
        "#Last element in \"data\" key\n",
        "joined_results['data'][-1]"
      ],
      "metadata": {
        "colab": {
          "base_uri": "https://localhost:8080/"
        },
        "id": "chp8juSkxN7m",
        "outputId": "5c667b33-e6d9-4c47-d201-647ff3d660a7"
      },
      "execution_count": null,
      "outputs": [
        {
          "output_type": "execute_result",
          "data": {
            "text/plain": [
              "{'aqi': 131,\n",
              " 'co': 170.6,\n",
              " 'datetime': '2023-03-07:17',\n",
              " 'no2': 29.3,\n",
              " 'o3': 53.3,\n",
              " 'pm10': 58.8,\n",
              " 'pm25': 47,\n",
              " 'so2': 67.3,\n",
              " 'timestamp_local': '2023-03-08T00:00:00',\n",
              " 'timestamp_utc': '2023-03-07T17:00:00',\n",
              " 'ts': 1678208400}"
            ]
          },
          "metadata": {},
          "execution_count": 9
        }
      ]
    },
    {
      "cell_type": "code",
      "source": [
        "# Creating DataFrame\n",
        "df = pd.DataFrame(joined_results)\n",
        "\n",
        "# Renaming columns\n",
        "df.columns = ['City', 'Country code', 'Lat', 'Lon', 'timezone', 'Data']\n",
        "\n",
        "# Splitting 'Data' column into individual columns\n",
        "df[['AQI', 'CO', 'Date Time', 'NO2', 'O3', 'PM10', 'PM25', 'SO2', 'Local Time', 'UTC Time', 'TS']] = pd.DataFrame(df['Data'].tolist())\n",
        "\n",
        "# Dropping uneccessary columns\n",
        "df.drop(columns=['Data', 'Lat', 'Lon', 'timezone', 'TS', 'UTC Time', 'NO2', 'O3', 'SO2','City', 'Country code'], inplace=True)\n",
        "\n",
        "# Dropping duplicate columns\n",
        "df = df.drop_duplicates()\n",
        "\n",
        "# Sort local time\n",
        "df = df.sort_values(by='Local Time')\n",
        "\n",
        "\n",
        "\n",
        "df.head()"
      ],
      "metadata": {
        "colab": {
          "base_uri": "https://localhost:8080/",
          "height": 206
        },
        "id": "OwlzUABjxSx6",
        "outputId": "5d4fd911-8b4a-49c6-d321-6f949b8aad6c"
      },
      "execution_count": null,
      "outputs": [
        {
          "output_type": "execute_result",
          "data": {
            "text/plain": [
              "      AQI     CO      Date Time  PM10  PM25           Local Time\n",
              "9541  131  170.6  2023-03-07:17  58.8  47.0  2023-03-08T00:00:00\n",
              "9540  126  158.7  2023-03-07:18  56.3  45.0  2023-03-08T01:00:00\n",
              "9539  118  150.2  2023-03-07:19  52.5  42.0  2023-03-08T02:00:00\n",
              "9538  126  141.6  2023-03-07:20  56.3  45.0  2023-03-08T03:00:00\n",
              "9537  118  133.1  2023-03-07:21  52.5  42.0  2023-03-08T04:00:00"
            ],
            "text/html": [
              "\n",
              "  <div id=\"df-58901640-dff5-4ea2-a0a6-f352749183cf\" class=\"colab-df-container\">\n",
              "    <div>\n",
              "<style scoped>\n",
              "    .dataframe tbody tr th:only-of-type {\n",
              "        vertical-align: middle;\n",
              "    }\n",
              "\n",
              "    .dataframe tbody tr th {\n",
              "        vertical-align: top;\n",
              "    }\n",
              "\n",
              "    .dataframe thead th {\n",
              "        text-align: right;\n",
              "    }\n",
              "</style>\n",
              "<table border=\"1\" class=\"dataframe\">\n",
              "  <thead>\n",
              "    <tr style=\"text-align: right;\">\n",
              "      <th></th>\n",
              "      <th>AQI</th>\n",
              "      <th>CO</th>\n",
              "      <th>Date Time</th>\n",
              "      <th>PM10</th>\n",
              "      <th>PM25</th>\n",
              "      <th>Local Time</th>\n",
              "    </tr>\n",
              "  </thead>\n",
              "  <tbody>\n",
              "    <tr>\n",
              "      <th>9541</th>\n",
              "      <td>131</td>\n",
              "      <td>170.6</td>\n",
              "      <td>2023-03-07:17</td>\n",
              "      <td>58.8</td>\n",
              "      <td>47.0</td>\n",
              "      <td>2023-03-08T00:00:00</td>\n",
              "    </tr>\n",
              "    <tr>\n",
              "      <th>9540</th>\n",
              "      <td>126</td>\n",
              "      <td>158.7</td>\n",
              "      <td>2023-03-07:18</td>\n",
              "      <td>56.3</td>\n",
              "      <td>45.0</td>\n",
              "      <td>2023-03-08T01:00:00</td>\n",
              "    </tr>\n",
              "    <tr>\n",
              "      <th>9539</th>\n",
              "      <td>118</td>\n",
              "      <td>150.2</td>\n",
              "      <td>2023-03-07:19</td>\n",
              "      <td>52.5</td>\n",
              "      <td>42.0</td>\n",
              "      <td>2023-03-08T02:00:00</td>\n",
              "    </tr>\n",
              "    <tr>\n",
              "      <th>9538</th>\n",
              "      <td>126</td>\n",
              "      <td>141.6</td>\n",
              "      <td>2023-03-07:20</td>\n",
              "      <td>56.3</td>\n",
              "      <td>45.0</td>\n",
              "      <td>2023-03-08T03:00:00</td>\n",
              "    </tr>\n",
              "    <tr>\n",
              "      <th>9537</th>\n",
              "      <td>118</td>\n",
              "      <td>133.1</td>\n",
              "      <td>2023-03-07:21</td>\n",
              "      <td>52.5</td>\n",
              "      <td>42.0</td>\n",
              "      <td>2023-03-08T04:00:00</td>\n",
              "    </tr>\n",
              "  </tbody>\n",
              "</table>\n",
              "</div>\n",
              "    <div class=\"colab-df-buttons\">\n",
              "\n",
              "  <div class=\"colab-df-container\">\n",
              "    <button class=\"colab-df-convert\" onclick=\"convertToInteractive('df-58901640-dff5-4ea2-a0a6-f352749183cf')\"\n",
              "            title=\"Convert this dataframe to an interactive table.\"\n",
              "            style=\"display:none;\">\n",
              "\n",
              "  <svg xmlns=\"http://www.w3.org/2000/svg\" height=\"24px\" viewBox=\"0 -960 960 960\">\n",
              "    <path d=\"M120-120v-720h720v720H120Zm60-500h600v-160H180v160Zm220 220h160v-160H400v160Zm0 220h160v-160H400v160ZM180-400h160v-160H180v160Zm440 0h160v-160H620v160ZM180-180h160v-160H180v160Zm440 0h160v-160H620v160Z\"/>\n",
              "  </svg>\n",
              "    </button>\n",
              "\n",
              "  <style>\n",
              "    .colab-df-container {\n",
              "      display:flex;\n",
              "      gap: 12px;\n",
              "    }\n",
              "\n",
              "    .colab-df-convert {\n",
              "      background-color: #E8F0FE;\n",
              "      border: none;\n",
              "      border-radius: 50%;\n",
              "      cursor: pointer;\n",
              "      display: none;\n",
              "      fill: #1967D2;\n",
              "      height: 32px;\n",
              "      padding: 0 0 0 0;\n",
              "      width: 32px;\n",
              "    }\n",
              "\n",
              "    .colab-df-convert:hover {\n",
              "      background-color: #E2EBFA;\n",
              "      box-shadow: 0px 1px 2px rgba(60, 64, 67, 0.3), 0px 1px 3px 1px rgba(60, 64, 67, 0.15);\n",
              "      fill: #174EA6;\n",
              "    }\n",
              "\n",
              "    .colab-df-buttons div {\n",
              "      margin-bottom: 4px;\n",
              "    }\n",
              "\n",
              "    [theme=dark] .colab-df-convert {\n",
              "      background-color: #3B4455;\n",
              "      fill: #D2E3FC;\n",
              "    }\n",
              "\n",
              "    [theme=dark] .colab-df-convert:hover {\n",
              "      background-color: #434B5C;\n",
              "      box-shadow: 0px 1px 3px 1px rgba(0, 0, 0, 0.15);\n",
              "      filter: drop-shadow(0px 1px 2px rgba(0, 0, 0, 0.3));\n",
              "      fill: #FFFFFF;\n",
              "    }\n",
              "  </style>\n",
              "\n",
              "    <script>\n",
              "      const buttonEl =\n",
              "        document.querySelector('#df-58901640-dff5-4ea2-a0a6-f352749183cf button.colab-df-convert');\n",
              "      buttonEl.style.display =\n",
              "        google.colab.kernel.accessAllowed ? 'block' : 'none';\n",
              "\n",
              "      async function convertToInteractive(key) {\n",
              "        const element = document.querySelector('#df-58901640-dff5-4ea2-a0a6-f352749183cf');\n",
              "        const dataTable =\n",
              "          await google.colab.kernel.invokeFunction('convertToInteractive',\n",
              "                                                    [key], {});\n",
              "        if (!dataTable) return;\n",
              "\n",
              "        const docLinkHtml = 'Like what you see? Visit the ' +\n",
              "          '<a target=\"_blank\" href=https://colab.research.google.com/notebooks/data_table.ipynb>data table notebook</a>'\n",
              "          + ' to learn more about interactive tables.';\n",
              "        element.innerHTML = '';\n",
              "        dataTable['output_type'] = 'display_data';\n",
              "        await google.colab.output.renderOutput(dataTable, element);\n",
              "        const docLink = document.createElement('div');\n",
              "        docLink.innerHTML = docLinkHtml;\n",
              "        element.appendChild(docLink);\n",
              "      }\n",
              "    </script>\n",
              "  </div>\n",
              "\n",
              "\n",
              "<div id=\"df-305ab57f-4048-4f0d-8df5-36822b856691\">\n",
              "  <button class=\"colab-df-quickchart\" onclick=\"quickchart('df-305ab57f-4048-4f0d-8df5-36822b856691')\"\n",
              "            title=\"Suggest charts\"\n",
              "            style=\"display:none;\">\n",
              "\n",
              "<svg xmlns=\"http://www.w3.org/2000/svg\" height=\"24px\"viewBox=\"0 0 24 24\"\n",
              "     width=\"24px\">\n",
              "    <g>\n",
              "        <path d=\"M19 3H5c-1.1 0-2 .9-2 2v14c0 1.1.9 2 2 2h14c1.1 0 2-.9 2-2V5c0-1.1-.9-2-2-2zM9 17H7v-7h2v7zm4 0h-2V7h2v10zm4 0h-2v-4h2v4z\"/>\n",
              "    </g>\n",
              "</svg>\n",
              "  </button>\n",
              "\n",
              "<style>\n",
              "  .colab-df-quickchart {\n",
              "      --bg-color: #E8F0FE;\n",
              "      --fill-color: #1967D2;\n",
              "      --hover-bg-color: #E2EBFA;\n",
              "      --hover-fill-color: #174EA6;\n",
              "      --disabled-fill-color: #AAA;\n",
              "      --disabled-bg-color: #DDD;\n",
              "  }\n",
              "\n",
              "  [theme=dark] .colab-df-quickchart {\n",
              "      --bg-color: #3B4455;\n",
              "      --fill-color: #D2E3FC;\n",
              "      --hover-bg-color: #434B5C;\n",
              "      --hover-fill-color: #FFFFFF;\n",
              "      --disabled-bg-color: #3B4455;\n",
              "      --disabled-fill-color: #666;\n",
              "  }\n",
              "\n",
              "  .colab-df-quickchart {\n",
              "    background-color: var(--bg-color);\n",
              "    border: none;\n",
              "    border-radius: 50%;\n",
              "    cursor: pointer;\n",
              "    display: none;\n",
              "    fill: var(--fill-color);\n",
              "    height: 32px;\n",
              "    padding: 0;\n",
              "    width: 32px;\n",
              "  }\n",
              "\n",
              "  .colab-df-quickchart:hover {\n",
              "    background-color: var(--hover-bg-color);\n",
              "    box-shadow: 0 1px 2px rgba(60, 64, 67, 0.3), 0 1px 3px 1px rgba(60, 64, 67, 0.15);\n",
              "    fill: var(--button-hover-fill-color);\n",
              "  }\n",
              "\n",
              "  .colab-df-quickchart-complete:disabled,\n",
              "  .colab-df-quickchart-complete:disabled:hover {\n",
              "    background-color: var(--disabled-bg-color);\n",
              "    fill: var(--disabled-fill-color);\n",
              "    box-shadow: none;\n",
              "  }\n",
              "\n",
              "  .colab-df-spinner {\n",
              "    border: 2px solid var(--fill-color);\n",
              "    border-color: transparent;\n",
              "    border-bottom-color: var(--fill-color);\n",
              "    animation:\n",
              "      spin 1s steps(1) infinite;\n",
              "  }\n",
              "\n",
              "  @keyframes spin {\n",
              "    0% {\n",
              "      border-color: transparent;\n",
              "      border-bottom-color: var(--fill-color);\n",
              "      border-left-color: var(--fill-color);\n",
              "    }\n",
              "    20% {\n",
              "      border-color: transparent;\n",
              "      border-left-color: var(--fill-color);\n",
              "      border-top-color: var(--fill-color);\n",
              "    }\n",
              "    30% {\n",
              "      border-color: transparent;\n",
              "      border-left-color: var(--fill-color);\n",
              "      border-top-color: var(--fill-color);\n",
              "      border-right-color: var(--fill-color);\n",
              "    }\n",
              "    40% {\n",
              "      border-color: transparent;\n",
              "      border-right-color: var(--fill-color);\n",
              "      border-top-color: var(--fill-color);\n",
              "    }\n",
              "    60% {\n",
              "      border-color: transparent;\n",
              "      border-right-color: var(--fill-color);\n",
              "    }\n",
              "    80% {\n",
              "      border-color: transparent;\n",
              "      border-right-color: var(--fill-color);\n",
              "      border-bottom-color: var(--fill-color);\n",
              "    }\n",
              "    90% {\n",
              "      border-color: transparent;\n",
              "      border-bottom-color: var(--fill-color);\n",
              "    }\n",
              "  }\n",
              "</style>\n",
              "\n",
              "  <script>\n",
              "    async function quickchart(key) {\n",
              "      const quickchartButtonEl =\n",
              "        document.querySelector('#' + key + ' button');\n",
              "      quickchartButtonEl.disabled = true;  // To prevent multiple clicks.\n",
              "      quickchartButtonEl.classList.add('colab-df-spinner');\n",
              "      try {\n",
              "        const charts = await google.colab.kernel.invokeFunction(\n",
              "            'suggestCharts', [key], {});\n",
              "      } catch (error) {\n",
              "        console.error('Error during call to suggestCharts:', error);\n",
              "      }\n",
              "      quickchartButtonEl.classList.remove('colab-df-spinner');\n",
              "      quickchartButtonEl.classList.add('colab-df-quickchart-complete');\n",
              "    }\n",
              "    (() => {\n",
              "      let quickchartButtonEl =\n",
              "        document.querySelector('#df-305ab57f-4048-4f0d-8df5-36822b856691 button');\n",
              "      quickchartButtonEl.style.display =\n",
              "        google.colab.kernel.accessAllowed ? 'block' : 'none';\n",
              "    })();\n",
              "  </script>\n",
              "</div>\n",
              "\n",
              "    </div>\n",
              "  </div>\n"
            ],
            "application/vnd.google.colaboratory.intrinsic+json": {
              "type": "dataframe",
              "variable_name": "df",
              "summary": "{\n  \"name\": \"df\",\n  \"rows\": 9529,\n  \"fields\": [\n    {\n      \"column\": \"AQI\",\n      \"properties\": {\n        \"dtype\": \"number\",\n        \"std\": 52,\n        \"min\": 21,\n        \"max\": 500,\n        \"num_unique_values\": 307,\n        \"samples\": [\n          245,\n          266,\n          105\n        ],\n        \"semantic_type\": \"\",\n        \"description\": \"\"\n      }\n    },\n    {\n      \"column\": \"CO\",\n      \"properties\": {\n        \"dtype\": \"number\",\n        \"std\": 1105.3889144123148,\n        \"min\": 9.0,\n        \"max\": 15956.2,\n        \"num_unique_values\": 3170,\n        \"samples\": [\n          98.6,\n          639.4,\n          62.3\n        ],\n        \"semantic_type\": \"\",\n        \"description\": \"\"\n      }\n    },\n    {\n      \"column\": \"Date Time\",\n      \"properties\": {\n        \"dtype\": \"string\",\n        \"num_unique_values\": 9529,\n        \"samples\": [\n          \"2023-04-22:00\",\n          \"2023-11-08:22\",\n          \"2023-11-18:14\"\n        ],\n        \"semantic_type\": \"\",\n        \"description\": \"\"\n      }\n    },\n    {\n      \"column\": \"PM10\",\n      \"properties\": {\n        \"dtype\": \"number\",\n        \"std\": 56.11963412079684,\n        \"min\": 1.3,\n        \"max\": 604.0,\n        \"num_unique_values\": 1154,\n        \"samples\": [\n          55.4,\n          359.3,\n          18.1\n        ],\n        \"semantic_type\": \"\",\n        \"description\": \"\"\n      }\n    },\n    {\n      \"column\": \"PM25\",\n      \"properties\": {\n        \"dtype\": \"number\",\n        \"std\": 46.32929888670566,\n        \"min\": 1.0,\n        \"max\": 446.0,\n        \"num_unique_values\": 1274,\n        \"samples\": [\n          245.0,\n          49.29,\n          111.0\n        ],\n        \"semantic_type\": \"\",\n        \"description\": \"\"\n      }\n    },\n    {\n      \"column\": \"Local Time\",\n      \"properties\": {\n        \"dtype\": \"object\",\n        \"num_unique_values\": 9529,\n        \"samples\": [\n          \"2023-04-22T07:00:00\",\n          \"2023-11-09T05:00:00\",\n          \"2023-11-18T21:00:00\"\n        ],\n        \"semantic_type\": \"\",\n        \"description\": \"\"\n      }\n    }\n  ]\n}"
            }
          },
          "metadata": {},
          "execution_count": 11
        }
      ]
    },
    {
      "cell_type": "code",
      "source": [
        "df.info()"
      ],
      "metadata": {
        "id": "1es-Kc44x3To",
        "colab": {
          "base_uri": "https://localhost:8080/"
        },
        "outputId": "80ce4f53-8468-4969-b2ff-f594e1b6e014"
      },
      "execution_count": null,
      "outputs": [
        {
          "output_type": "stream",
          "name": "stdout",
          "text": [
            "<class 'pandas.core.frame.DataFrame'>\n",
            "Index: 9529 entries, 9541 to 0\n",
            "Data columns (total 6 columns):\n",
            " #   Column      Non-Null Count  Dtype  \n",
            "---  ------      --------------  -----  \n",
            " 0   AQI         9529 non-null   int64  \n",
            " 1   CO          9529 non-null   float64\n",
            " 2   Date Time   9529 non-null   object \n",
            " 3   PM10        9529 non-null   float64\n",
            " 4   PM25        9529 non-null   float64\n",
            " 5   Local Time  9529 non-null   object \n",
            "dtypes: float64(3), int64(1), object(2)\n",
            "memory usage: 779.2+ KB\n"
          ]
        }
      ]
    },
    {
      "cell_type": "code",
      "source": [
        "import pandas as pd"
      ],
      "metadata": {
        "id": "4AckCBWLylVJ"
      },
      "execution_count": null,
      "outputs": []
    },
    {
      "cell_type": "code",
      "source": [
        "df.to_csv('filename.csv', index=False)"
      ],
      "metadata": {
        "id": "eeSCHaVOymmv"
      },
      "execution_count": null,
      "outputs": []
    },
    {
      "cell_type": "code",
      "source": [
        "from google.colab import files"
      ],
      "metadata": {
        "id": "yP_Whl-Sy726"
      },
      "execution_count": null,
      "outputs": []
    },
    {
      "cell_type": "code",
      "source": [
        "files.download('filename.csv')"
      ],
      "metadata": {
        "colab": {
          "base_uri": "https://localhost:8080/",
          "height": 17
        },
        "id": "36N6TS4By8d8",
        "outputId": "5fd3384b-fed7-4205-80bc-30163fefd371"
      },
      "execution_count": null,
      "outputs": [
        {
          "output_type": "display_data",
          "data": {
            "text/plain": [
              "<IPython.core.display.Javascript object>"
            ],
            "application/javascript": [
              "\n",
              "    async function download(id, filename, size) {\n",
              "      if (!google.colab.kernel.accessAllowed) {\n",
              "        return;\n",
              "      }\n",
              "      const div = document.createElement('div');\n",
              "      const label = document.createElement('label');\n",
              "      label.textContent = `Downloading \"${filename}\": `;\n",
              "      div.appendChild(label);\n",
              "      const progress = document.createElement('progress');\n",
              "      progress.max = size;\n",
              "      div.appendChild(progress);\n",
              "      document.body.appendChild(div);\n",
              "\n",
              "      const buffers = [];\n",
              "      let downloaded = 0;\n",
              "\n",
              "      const channel = await google.colab.kernel.comms.open(id);\n",
              "      // Send a message to notify the kernel that we're ready.\n",
              "      channel.send({})\n",
              "\n",
              "      for await (const message of channel.messages) {\n",
              "        // Send a message to notify the kernel that we're ready.\n",
              "        channel.send({})\n",
              "        if (message.buffers) {\n",
              "          for (const buffer of message.buffers) {\n",
              "            buffers.push(buffer);\n",
              "            downloaded += buffer.byteLength;\n",
              "            progress.value = downloaded;\n",
              "          }\n",
              "        }\n",
              "      }\n",
              "      const blob = new Blob(buffers, {type: 'application/binary'});\n",
              "      const a = document.createElement('a');\n",
              "      a.href = window.URL.createObjectURL(blob);\n",
              "      a.download = filename;\n",
              "      div.appendChild(a);\n",
              "      a.click();\n",
              "      div.remove();\n",
              "    }\n",
              "  "
            ]
          },
          "metadata": {}
        },
        {
          "output_type": "display_data",
          "data": {
            "text/plain": [
              "<IPython.core.display.Javascript object>"
            ],
            "application/javascript": [
              "download(\"download_8f499178-344f-4e86-8a37-1329049421e1\", \"filename.csv\", 513241)"
            ]
          },
          "metadata": {}
        }
      ]
    },
    {
      "cell_type": "code",
      "source": [
        "# Dropping uneccessary columns\n",
        "df.drop(columns=['Country code', 'NO2', 'O3', 'SO2'], inplace=True)"
      ],
      "metadata": {
        "id": "JliRmLTYzST1",
        "colab": {
          "base_uri": "https://localhost:8080/",
          "height": 317
        },
        "outputId": "81d46fac-d2a6-4e21-8fa7-c96ecb23e156"
      },
      "execution_count": null,
      "outputs": [
        {
          "output_type": "error",
          "ename": "KeyError",
          "evalue": "\"['Country code', 'NO2', 'O3', 'SO2'] not found in axis\"",
          "traceback": [
            "\u001b[0;31m---------------------------------------------------------------------------\u001b[0m",
            "\u001b[0;31mKeyError\u001b[0m                                  Traceback (most recent call last)",
            "\u001b[0;32m<ipython-input-18-22d2a50ed33e>\u001b[0m in \u001b[0;36m<cell line: 2>\u001b[0;34m()\u001b[0m\n\u001b[1;32m      1\u001b[0m \u001b[0;31m# Dropping uneccessary columns\u001b[0m\u001b[0;34m\u001b[0m\u001b[0;34m\u001b[0m\u001b[0m\n\u001b[0;32m----> 2\u001b[0;31m \u001b[0mdf\u001b[0m\u001b[0;34m.\u001b[0m\u001b[0mdrop\u001b[0m\u001b[0;34m(\u001b[0m\u001b[0mcolumns\u001b[0m\u001b[0;34m=\u001b[0m\u001b[0;34m[\u001b[0m\u001b[0;34m'Country code'\u001b[0m\u001b[0;34m,\u001b[0m \u001b[0;34m'NO2'\u001b[0m\u001b[0;34m,\u001b[0m \u001b[0;34m'O3'\u001b[0m\u001b[0;34m,\u001b[0m \u001b[0;34m'SO2'\u001b[0m\u001b[0;34m]\u001b[0m\u001b[0;34m,\u001b[0m \u001b[0minplace\u001b[0m\u001b[0;34m=\u001b[0m\u001b[0;32mTrue\u001b[0m\u001b[0;34m)\u001b[0m\u001b[0;34m\u001b[0m\u001b[0;34m\u001b[0m\u001b[0m\n\u001b[0m",
            "\u001b[0;32m/usr/local/lib/python3.10/dist-packages/pandas/core/frame.py\u001b[0m in \u001b[0;36mdrop\u001b[0;34m(self, labels, axis, index, columns, level, inplace, errors)\u001b[0m\n\u001b[1;32m   5342\u001b[0m                 \u001b[0mweight\u001b[0m  \u001b[0;36m1.0\u001b[0m     \u001b[0;36m0.8\u001b[0m\u001b[0;34m\u001b[0m\u001b[0;34m\u001b[0m\u001b[0m\n\u001b[1;32m   5343\u001b[0m         \"\"\"\n\u001b[0;32m-> 5344\u001b[0;31m         return super().drop(\n\u001b[0m\u001b[1;32m   5345\u001b[0m             \u001b[0mlabels\u001b[0m\u001b[0;34m=\u001b[0m\u001b[0mlabels\u001b[0m\u001b[0;34m,\u001b[0m\u001b[0;34m\u001b[0m\u001b[0;34m\u001b[0m\u001b[0m\n\u001b[1;32m   5346\u001b[0m             \u001b[0maxis\u001b[0m\u001b[0;34m=\u001b[0m\u001b[0maxis\u001b[0m\u001b[0;34m,\u001b[0m\u001b[0;34m\u001b[0m\u001b[0;34m\u001b[0m\u001b[0m\n",
            "\u001b[0;32m/usr/local/lib/python3.10/dist-packages/pandas/core/generic.py\u001b[0m in \u001b[0;36mdrop\u001b[0;34m(self, labels, axis, index, columns, level, inplace, errors)\u001b[0m\n\u001b[1;32m   4709\u001b[0m         \u001b[0;32mfor\u001b[0m \u001b[0maxis\u001b[0m\u001b[0;34m,\u001b[0m \u001b[0mlabels\u001b[0m \u001b[0;32min\u001b[0m \u001b[0maxes\u001b[0m\u001b[0;34m.\u001b[0m\u001b[0mitems\u001b[0m\u001b[0;34m(\u001b[0m\u001b[0;34m)\u001b[0m\u001b[0;34m:\u001b[0m\u001b[0;34m\u001b[0m\u001b[0;34m\u001b[0m\u001b[0m\n\u001b[1;32m   4710\u001b[0m             \u001b[0;32mif\u001b[0m \u001b[0mlabels\u001b[0m \u001b[0;32mis\u001b[0m \u001b[0;32mnot\u001b[0m \u001b[0;32mNone\u001b[0m\u001b[0;34m:\u001b[0m\u001b[0;34m\u001b[0m\u001b[0;34m\u001b[0m\u001b[0m\n\u001b[0;32m-> 4711\u001b[0;31m                 \u001b[0mobj\u001b[0m \u001b[0;34m=\u001b[0m \u001b[0mobj\u001b[0m\u001b[0;34m.\u001b[0m\u001b[0m_drop_axis\u001b[0m\u001b[0;34m(\u001b[0m\u001b[0mlabels\u001b[0m\u001b[0;34m,\u001b[0m \u001b[0maxis\u001b[0m\u001b[0;34m,\u001b[0m \u001b[0mlevel\u001b[0m\u001b[0;34m=\u001b[0m\u001b[0mlevel\u001b[0m\u001b[0;34m,\u001b[0m \u001b[0merrors\u001b[0m\u001b[0;34m=\u001b[0m\u001b[0merrors\u001b[0m\u001b[0;34m)\u001b[0m\u001b[0;34m\u001b[0m\u001b[0;34m\u001b[0m\u001b[0m\n\u001b[0m\u001b[1;32m   4712\u001b[0m \u001b[0;34m\u001b[0m\u001b[0m\n\u001b[1;32m   4713\u001b[0m         \u001b[0;32mif\u001b[0m \u001b[0minplace\u001b[0m\u001b[0;34m:\u001b[0m\u001b[0;34m\u001b[0m\u001b[0;34m\u001b[0m\u001b[0m\n",
            "\u001b[0;32m/usr/local/lib/python3.10/dist-packages/pandas/core/generic.py\u001b[0m in \u001b[0;36m_drop_axis\u001b[0;34m(self, labels, axis, level, errors, only_slice)\u001b[0m\n\u001b[1;32m   4751\u001b[0m                 \u001b[0mnew_axis\u001b[0m \u001b[0;34m=\u001b[0m \u001b[0maxis\u001b[0m\u001b[0;34m.\u001b[0m\u001b[0mdrop\u001b[0m\u001b[0;34m(\u001b[0m\u001b[0mlabels\u001b[0m\u001b[0;34m,\u001b[0m \u001b[0mlevel\u001b[0m\u001b[0;34m=\u001b[0m\u001b[0mlevel\u001b[0m\u001b[0;34m,\u001b[0m \u001b[0merrors\u001b[0m\u001b[0;34m=\u001b[0m\u001b[0merrors\u001b[0m\u001b[0;34m)\u001b[0m\u001b[0;34m\u001b[0m\u001b[0;34m\u001b[0m\u001b[0m\n\u001b[1;32m   4752\u001b[0m             \u001b[0;32melse\u001b[0m\u001b[0;34m:\u001b[0m\u001b[0;34m\u001b[0m\u001b[0;34m\u001b[0m\u001b[0m\n\u001b[0;32m-> 4753\u001b[0;31m                 \u001b[0mnew_axis\u001b[0m \u001b[0;34m=\u001b[0m \u001b[0maxis\u001b[0m\u001b[0;34m.\u001b[0m\u001b[0mdrop\u001b[0m\u001b[0;34m(\u001b[0m\u001b[0mlabels\u001b[0m\u001b[0;34m,\u001b[0m \u001b[0merrors\u001b[0m\u001b[0;34m=\u001b[0m\u001b[0merrors\u001b[0m\u001b[0;34m)\u001b[0m\u001b[0;34m\u001b[0m\u001b[0;34m\u001b[0m\u001b[0m\n\u001b[0m\u001b[1;32m   4754\u001b[0m             \u001b[0mindexer\u001b[0m \u001b[0;34m=\u001b[0m \u001b[0maxis\u001b[0m\u001b[0;34m.\u001b[0m\u001b[0mget_indexer\u001b[0m\u001b[0;34m(\u001b[0m\u001b[0mnew_axis\u001b[0m\u001b[0;34m)\u001b[0m\u001b[0;34m\u001b[0m\u001b[0;34m\u001b[0m\u001b[0m\n\u001b[1;32m   4755\u001b[0m \u001b[0;34m\u001b[0m\u001b[0m\n",
            "\u001b[0;32m/usr/local/lib/python3.10/dist-packages/pandas/core/indexes/base.py\u001b[0m in \u001b[0;36mdrop\u001b[0;34m(self, labels, errors)\u001b[0m\n\u001b[1;32m   6998\u001b[0m         \u001b[0;32mif\u001b[0m \u001b[0mmask\u001b[0m\u001b[0;34m.\u001b[0m\u001b[0many\u001b[0m\u001b[0;34m(\u001b[0m\u001b[0;34m)\u001b[0m\u001b[0;34m:\u001b[0m\u001b[0;34m\u001b[0m\u001b[0;34m\u001b[0m\u001b[0m\n\u001b[1;32m   6999\u001b[0m             \u001b[0;32mif\u001b[0m \u001b[0merrors\u001b[0m \u001b[0;34m!=\u001b[0m \u001b[0;34m\"ignore\"\u001b[0m\u001b[0;34m:\u001b[0m\u001b[0;34m\u001b[0m\u001b[0;34m\u001b[0m\u001b[0m\n\u001b[0;32m-> 7000\u001b[0;31m                 \u001b[0;32mraise\u001b[0m \u001b[0mKeyError\u001b[0m\u001b[0;34m(\u001b[0m\u001b[0;34mf\"{labels[mask].tolist()} not found in axis\"\u001b[0m\u001b[0;34m)\u001b[0m\u001b[0;34m\u001b[0m\u001b[0;34m\u001b[0m\u001b[0m\n\u001b[0m\u001b[1;32m   7001\u001b[0m             \u001b[0mindexer\u001b[0m \u001b[0;34m=\u001b[0m \u001b[0mindexer\u001b[0m\u001b[0;34m[\u001b[0m\u001b[0;34m~\u001b[0m\u001b[0mmask\u001b[0m\u001b[0;34m]\u001b[0m\u001b[0;34m\u001b[0m\u001b[0;34m\u001b[0m\u001b[0m\n\u001b[1;32m   7002\u001b[0m         \u001b[0;32mreturn\u001b[0m \u001b[0mself\u001b[0m\u001b[0;34m.\u001b[0m\u001b[0mdelete\u001b[0m\u001b[0;34m(\u001b[0m\u001b[0mindexer\u001b[0m\u001b[0;34m)\u001b[0m\u001b[0;34m\u001b[0m\u001b[0;34m\u001b[0m\u001b[0m\n",
            "\u001b[0;31mKeyError\u001b[0m: \"['Country code', 'NO2', 'O3', 'SO2'] not found in axis\""
          ]
        }
      ]
    },
    {
      "cell_type": "code",
      "source": [
        "df.info()"
      ],
      "metadata": {
        "colab": {
          "base_uri": "https://localhost:8080/"
        },
        "id": "69gucCYwzg37",
        "outputId": "ef40d7d5-ae4e-468b-f9b8-17362c95c899"
      },
      "execution_count": null,
      "outputs": [
        {
          "output_type": "stream",
          "name": "stdout",
          "text": [
            "<class 'pandas.core.frame.DataFrame'>\n",
            "DatetimeIndex: 9529 entries, 2023-03-08 00:00:00 to 2024-04-08 00:00:00\n",
            "Data columns (total 6 columns):\n",
            " #   Column    Non-Null Count  Dtype  \n",
            "---  ------    --------------  -----  \n",
            " 0   City      9529 non-null   object \n",
            " 1   AQI       9529 non-null   int64  \n",
            " 2   CO        9529 non-null   float64\n",
            " 3   PM10      9529 non-null   float64\n",
            " 4   PM25      9529 non-null   float64\n",
            " 5   UTC Time  9529 non-null   object \n",
            "dtypes: float64(3), int64(1), object(2)\n",
            "memory usage: 521.1+ KB\n"
          ]
        }
      ]
    },
    {
      "cell_type": "code",
      "source": [
        "df.to_csv('datasetPM25&CO_HN.csv', index=False)"
      ],
      "metadata": {
        "id": "caF38DCz2GJZ"
      },
      "execution_count": null,
      "outputs": []
    },
    {
      "cell_type": "code",
      "source": [
        "files.download('datasetPM25&CO_HN.csv')"
      ],
      "metadata": {
        "colab": {
          "base_uri": "https://localhost:8080/",
          "height": 17
        },
        "id": "41sDvhl82N9c",
        "outputId": "3c99608c-8778-4f8e-fc7b-503b243083a6"
      },
      "execution_count": null,
      "outputs": [
        {
          "output_type": "display_data",
          "data": {
            "text/plain": [
              "<IPython.core.display.Javascript object>"
            ],
            "application/javascript": [
              "\n",
              "    async function download(id, filename, size) {\n",
              "      if (!google.colab.kernel.accessAllowed) {\n",
              "        return;\n",
              "      }\n",
              "      const div = document.createElement('div');\n",
              "      const label = document.createElement('label');\n",
              "      label.textContent = `Downloading \"${filename}\": `;\n",
              "      div.appendChild(label);\n",
              "      const progress = document.createElement('progress');\n",
              "      progress.max = size;\n",
              "      div.appendChild(progress);\n",
              "      document.body.appendChild(div);\n",
              "\n",
              "      const buffers = [];\n",
              "      let downloaded = 0;\n",
              "\n",
              "      const channel = await google.colab.kernel.comms.open(id);\n",
              "      // Send a message to notify the kernel that we're ready.\n",
              "      channel.send({})\n",
              "\n",
              "      for await (const message of channel.messages) {\n",
              "        // Send a message to notify the kernel that we're ready.\n",
              "        channel.send({})\n",
              "        if (message.buffers) {\n",
              "          for (const buffer of message.buffers) {\n",
              "            buffers.push(buffer);\n",
              "            downloaded += buffer.byteLength;\n",
              "            progress.value = downloaded;\n",
              "          }\n",
              "        }\n",
              "      }\n",
              "      const blob = new Blob(buffers, {type: 'application/binary'});\n",
              "      const a = document.createElement('a');\n",
              "      a.href = window.URL.createObjectURL(blob);\n",
              "      a.download = filename;\n",
              "      div.appendChild(a);\n",
              "      a.click();\n",
              "      div.remove();\n",
              "    }\n",
              "  "
            ]
          },
          "metadata": {}
        },
        {
          "output_type": "display_data",
          "data": {
            "text/plain": [
              "<IPython.core.display.Javascript object>"
            ],
            "application/javascript": [
              "download(\"download_8b51bf3a-ddca-441f-9a35-f80e1a271662\", \"datasetPM25&CO_HN.csv\", 437002)"
            ]
          },
          "metadata": {}
        }
      ]
    }
  ]
}